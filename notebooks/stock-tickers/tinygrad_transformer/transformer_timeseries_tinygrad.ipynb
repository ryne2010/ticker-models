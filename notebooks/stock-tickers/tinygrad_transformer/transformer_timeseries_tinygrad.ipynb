{
 "cells": [
  {
   "cell_type": "code",
   "execution_count": 1,
   "id": "25b87870-7edf-46a4-b2e0-808d545e3f38",
   "metadata": {},
   "outputs": [
    {
     "name": "stderr",
     "output_type": "stream",
     "text": [
      "/Users/ryneschroder/Developer/git/ticker-models/notebooks/stock-tickers/tinygrad_transformer/dataset.py:47: UserWarning: Pandas doesn't allow columns to be created via a new attribute name - see https://pandas.pydata.org/pandas-docs/stable/indexing.html#attribute-access\n",
      "  self.indices = indices\n"
     ]
    },
    {
     "name": "stdout",
     "output_type": "stream",
     "text": [
      "Reading file in data/dfs_merged_upload.csv\n",
      "From get_src_trg: data size = <Tensor <LB (208, 1) dtypes.float op=LoadOps.FROM st=ShapeTracker(shape=(208, 1), views=[View(shape=(208, 1), strides=(1, 0), offset=0, mask=None, contiguous=True, shape_strides=((208, 1),))])> on GPU with grad None>\n",
      "src shape: (153, 1), trg shape: (48, 1), trg_y shape: (48,)\n",
      "src.shape (1, 1, 1)\n",
      "len(src.shape) 3\n",
      "Shape of src before transpose: (1, 1, 1)\n",
      "Shape of trg before transpose: (1, 1, 1)\n",
      "src shape changed from (1, 1, 1) to (1, 1, 1)\n",
      "trg shape changed from (1, 1, 1) to (1, 1, 1)\n"
     ]
    },
    {
     "name": "stderr",
     "output_type": "stream",
     "text": [
      "  0%|                                                                               | 0/50 [00:00<?, ?it/s]"
     ]
    },
    {
     "name": "stdout",
     "output_type": "stream",
     "text": [
      "X_train.shape (128, 2)\n",
      "num_symbols: 1\n",
      "input_sequence: <Tensor <LB (64, 2) dtypes.long op=buffer<128, dtypes.long> st=ShapeTracker(shape=(64, 2), views=[View(shape=(64, 2), strides=(2, 1), offset=0, mask=None, contiguous=True, shape_strides=((128, 1),))])> on GPU with grad None>\n",
      "input_as_numpy[:, index]: [  0  65   0 111 101  45  93 126 101   0  36   5  77 112  77  72  36   9\n",
      "  36  48  21  66 111 104   2  17 123 104   3  65  78  58  94  66  61  76\n",
      "  70  67  46  68 100  81 119 104  79  69  79 127  40  89  52  72  77  55\n",
      "  26 112  79  31  16  86 112 125  61  61]\n"
     ]
    },
    {
     "name": "stderr",
     "output_type": "stream",
     "text": [
      "\n"
     ]
    },
    {
     "ename": "IndexError",
     "evalue": "index 65 is out of bounds for axis 2 with size 1",
     "output_type": "error",
     "traceback": [
      "\u001b[0;31m---------------------------------------------------------------------------\u001b[0m",
      "\u001b[0;31mIndexError\u001b[0m                                Traceback (most recent call last)",
      "File \u001b[0;32m~/Developer/git/ticker-models/notebooks/stock-tickers/tinygrad_transformer/sandbox.py:139\u001b[0m\n\u001b[1;32m    137\u001b[0m \u001b[38;5;28;01mfor\u001b[39;00m i \u001b[38;5;129;01min\u001b[39;00m \u001b[38;5;28mrange\u001b[39m(\u001b[38;5;241m10\u001b[39m):\n\u001b[1;32m    138\u001b[0m     optim \u001b[38;5;241m=\u001b[39m Adam(get_parameters(model), lr\u001b[38;5;241m=\u001b[39mlr)\n\u001b[0;32m--> 139\u001b[0m     \u001b[43mutils\u001b[49m\u001b[38;5;241;43m.\u001b[39;49m\u001b[43mtrain\u001b[49m\u001b[43m(\u001b[49m\u001b[43mmodel\u001b[49m\u001b[43m,\u001b[49m\u001b[43m \u001b[49m\u001b[43mX_train\u001b[49m\u001b[43m,\u001b[49m\u001b[43m \u001b[49m\u001b[43my_train\u001b[49m\u001b[43m,\u001b[49m\u001b[43m \u001b[49m\u001b[43moptim\u001b[49m\u001b[43m,\u001b[49m\u001b[43m \u001b[49m\u001b[38;5;241;43m50\u001b[39;49m\u001b[43m,\u001b[49m\u001b[43m \u001b[49m\u001b[43mBS\u001b[49m\u001b[38;5;241;43m=\u001b[39;49m\u001b[38;5;241;43m64\u001b[39;49m\u001b[43m)\u001b[49m\n\u001b[1;32m    140\u001b[0m     acc, y_test_preds \u001b[38;5;241m=\u001b[39m utils\u001b[38;5;241m.\u001b[39mevaluate(model, X_test, y_test, num_classes\u001b[38;5;241m=\u001b[39minput_size, return_predict\u001b[38;5;241m=\u001b[39m\u001b[38;5;28;01mTrue\u001b[39;00m)\n\u001b[1;32m    141\u001b[0m     lr \u001b[38;5;241m/\u001b[39m\u001b[38;5;241m=\u001b[39m \u001b[38;5;241m1.2\u001b[39m\n",
      "File \u001b[0;32m~/Developer/git/ticker-models/notebooks/stock-tickers/tinygrad_transformer/utils.py:30\u001b[0m, in \u001b[0;36mtrain\u001b[0;34m(model, X_train, Y_train, optim, steps, BS, lossfn, transform, target_transform, noloss)\u001b[0m\n\u001b[1;32m     27\u001b[0m y \u001b[38;5;241m=\u001b[39m target_transform(Y_train[samp])\n\u001b[1;32m     29\u001b[0m \u001b[38;5;66;03m# network\u001b[39;00m\n\u001b[0;32m---> 30\u001b[0m out \u001b[38;5;241m=\u001b[39m \u001b[43mmodel\u001b[49m\u001b[38;5;241;43m.\u001b[39;49m\u001b[43mforward\u001b[49m\u001b[43m(\u001b[49m\u001b[43mx\u001b[49m\u001b[43m)\u001b[49m \u001b[38;5;28;01mif\u001b[39;00m \u001b[38;5;28mhasattr\u001b[39m(model, \u001b[38;5;124m'\u001b[39m\u001b[38;5;124mforward\u001b[39m\u001b[38;5;124m'\u001b[39m) \u001b[38;5;28;01melse\u001b[39;00m model(x)\n\u001b[1;32m     32\u001b[0m loss \u001b[38;5;241m=\u001b[39m lossfn(out, y)\n\u001b[1;32m     33\u001b[0m optim\u001b[38;5;241m.\u001b[39mzero_grad()\n",
      "File \u001b[0;32m~/Developer/git/ticker-models/notebooks/stock-tickers/tinygrad_transformer/transformer_timeseries.py:112\u001b[0m, in \u001b[0;36mTransformer.forward\u001b[0;34m(self, input_sequence)\u001b[0m\n\u001b[1;32m    110\u001b[0m \u001b[38;5;28;01mfor\u001b[39;00m index \u001b[38;5;129;01min\u001b[39;00m \u001b[38;5;28mrange\u001b[39m(input_sequence\u001b[38;5;241m.\u001b[39mshape[\u001b[38;5;241m1\u001b[39m]):\n\u001b[1;32m    111\u001b[0m   \u001b[38;5;28mprint\u001b[39m(\u001b[38;5;124mf\u001b[39m\u001b[38;5;124m\"\u001b[39m\u001b[38;5;124minput_as_numpy[:, index]: \u001b[39m\u001b[38;5;132;01m{\u001b[39;00minput_as_numpy[:,\u001b[38;5;250m \u001b[39mindex]\u001b[38;5;132;01m}\u001b[39;00m\u001b[38;5;124m\"\u001b[39m)\n\u001b[0;32m--> 112\u001b[0m   \u001b[43mone_hot_encoding\u001b[49m\u001b[43m[\u001b[49m\u001b[38;5;28;43mrange\u001b[39;49m\u001b[43m(\u001b[49m\u001b[43mbatch_size\u001b[49m\u001b[43m)\u001b[49m\u001b[43m,\u001b[49m\u001b[43m \u001b[49m\u001b[43mindex\u001b[49m\u001b[43m,\u001b[49m\u001b[43m \u001b[49m\u001b[43minput_as_numpy\u001b[49m\u001b[43m[\u001b[49m\u001b[43m:\u001b[49m\u001b[43m,\u001b[49m\u001b[43m \u001b[49m\u001b[43mindex\u001b[49m\u001b[43m]\u001b[49m\u001b[43m]\u001b[49m \u001b[38;5;241m=\u001b[39m \u001b[38;5;241m1\u001b[39m\n\u001b[1;32m    113\u001b[0m one_hot_encoding \u001b[38;5;241m=\u001b[39m one_hot_encoding\u001b[38;5;241m.\u001b[39mreshape(batch_size\u001b[38;5;241m*\u001b[39minput_sequence\u001b[38;5;241m.\u001b[39mshape[\u001b[38;5;241m1\u001b[39m], \u001b[38;5;28mself\u001b[39m\u001b[38;5;241m.\u001b[39mnum_symbols)\n\u001b[1;32m    115\u001b[0m \u001b[38;5;66;03m# Apply the embedding to the input\u001b[39;00m\n",
      "\u001b[0;31mIndexError\u001b[0m: index 65 is out of bounds for axis 2 with size 1"
     ]
    }
   ],
   "source": [
    "%run sandbox.py"
   ]
  }
 ],
 "metadata": {
  "kernelspec": {
   "display_name": "Python 3 (ipykernel)",
   "language": "python",
   "name": "python3"
  },
  "language_info": {
   "codemirror_mode": {
    "name": "ipython",
    "version": 3
   },
   "file_extension": ".py",
   "mimetype": "text/x-python",
   "name": "python",
   "nbconvert_exporter": "python",
   "pygments_lexer": "ipython3",
   "version": "3.11.4"
  }
 },
 "nbformat": 4,
 "nbformat_minor": 5
}
