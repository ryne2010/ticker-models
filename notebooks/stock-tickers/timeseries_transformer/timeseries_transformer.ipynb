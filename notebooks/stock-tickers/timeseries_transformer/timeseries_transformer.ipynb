{
 "cells": [
  {
   "cell_type": "code",
   "execution_count": 1,
   "id": "36cdaf0b-0cbc-48f2-805a-15e851f65f81",
   "metadata": {},
   "outputs": [],
   "source": [
    "import dataset as ds\n",
    "import utils\n",
    "from torch.utils.data import DataLoader\n",
    "import torch\n",
    "import datetime\n",
    "import transformer_timeseries as tst\n",
    "import numpy as np"
   ]
  },
  {
   "cell_type": "code",
   "execution_count": 2,
   "id": "f8a4df68-7436-4272-9183-5fc29a2214c3",
   "metadata": {},
   "outputs": [],
   "source": [
    "# * Configuration\n",
    "\n",
    "## Hyperparams\n",
    "test_size = 0.1\n",
    "batch_size = 128\n",
    "target_col_name = \"tomorrow\"\n",
    "# timestamp_col = \"timestamp\"\n",
    "# Only use data from this date and onwards\n",
    "cutoff_date = datetime.datetime.now() - datetime.timedelta(days=2*365) # 2 years ago\n",
    "\n",
    "related_ticker_names = [\n",
    "    # \"SPY\", \n",
    "    # \"QQQ\", \n",
    "    # \"ITOT\", \n",
    "    # \"VTI\", \n",
    "    # \"AMZN\", \n",
    "    # \"AAPL\", \n",
    "    # \"AMC\", \n",
    "    # \"NVDA\", \n",
    "    # \"MSFT\", \n",
    "    # \"ROKU\", \n",
    "    # \"GOOGL\", \n",
    "    # \"NFLX\",\n",
    "    # \"DOGE-USD\",\n",
    "    # \"BTC-USD\",\n",
    "    # \"ETH-USD\"\n",
    "]\n",
    "# related_ticker_predictor_fields = [\"open\", \"high\", \"low\", \"close\", \"volume\"]\n",
    "related_ticker_predictor_fields = [\"close\", \"volume\"]\n",
    "# predictors = [\"close\", \"volume\", \"open\", \"high\", \"low\", \"edit_count\", \"sentiment\", \"neg_sentiment\"]\n",
    "predictors = [\"close\", \"sentiment\"]\n",
    "for i in range(0,len(related_ticker_names)):\n",
    "    for related_predictor in related_ticker_predictor_fields:\n",
    "        predictors.append(f\"{related_ticker_names[i]}_{related_predictor}\")"
   ]
  },
  {
   "cell_type": "code",
   "execution_count": 3,
   "id": "4bf0594b-e5c9-4cb7-929f-b2f7ccf93df8",
   "metadata": {},
   "outputs": [],
   "source": [
    "## Params\n",
    "dim_val = 512 # This can be any value divisible by n_heads. 512 is used in the original transformer paper.\n",
    "n_heads = 8 # The number of attention heads (aka parallel attention layers). dim_val must be divisible by this number\n",
    "n_decoder_layers = 4 # Number of times the decoder layer is stacked in the decoder\n",
    "n_encoder_layers = 4 # Number of times the encoder layer is stacked in the encoder\n",
    "dec_seq_len = 92 # length of input given to decoder\n",
    "enc_seq_len = 153 # length of input given to encoder\n",
    "output_sequence_length = 7 # target sequence length. If hourly data and length = 48, you predict 2 days ahead\n",
    "window_size = enc_seq_len + output_sequence_length # used to slice data into sub-sequences\n",
    "step_size = 1 # Step size, i.e. how many time steps does the moving window move at each step\n",
    "in_features_encoder_linear_layer = 2048\n",
    "in_features_decoder_linear_layer = 2048\n",
    "max_seq_len = enc_seq_len\n",
    "batch_first = True"
   ]
  },
  {
   "cell_type": "code",
   "execution_count": 4,
   "id": "85662221-8ddc-498b-a9e2-3ad9a2aea5fd",
   "metadata": {},
   "outputs": [],
   "source": [
    "# * Define input variables \n",
    "exogenous_vars = predictors # should contain strings. Each string must correspond to a column name\n",
    "input_variables = [target_col_name] + exogenous_vars\n",
    "# target_idx = -2 # ? not used? - index position of target in batched trg_y \n",
    "\n",
    "input_size = len(input_variables)"
   ]
  },
  {
   "cell_type": "code",
   "execution_count": 5,
   "id": "43a147f0-d42f-4be4-9dae-5d7dc4ec949e",
   "metadata": {},
   "outputs": [
    {
     "name": "stdout",
     "output_type": "stream",
     "text": [
      "Reading file in data/tsla_historical_data.csv\n"
     ]
    }
   ],
   "source": [
    "# * Read data\n",
    "data = utils.read_data()"
   ]
  },
  {
   "cell_type": "code",
   "execution_count": 6,
   "id": "ad8dc236-79d9-40b0-afd7-7d6d63d0300f",
   "metadata": {},
   "outputs": [],
   "source": [
    "# * Clean data\n",
    "data = data.copy()[input_variables]"
   ]
  },
  {
   "cell_type": "code",
   "execution_count": 7,
   "id": "a3e6f8fe-a64d-43cb-b8e9-5f83ea5ed3a3",
   "metadata": {},
   "outputs": [],
   "source": [
    "# * Remove test data from dataset\n",
    "training_data = data[:-(round(len(data)*test_size))]"
   ]
  },
  {
   "cell_type": "code",
   "execution_count": 8,
   "id": "80e1e3a6-5e41-44ad-924f-181f35feae3b",
   "metadata": {},
   "outputs": [],
   "source": [
    "# * Make list of (start_idx, end_idx) pairs that are used to slice the time series \n",
    "## sequence into chunks. \n",
    "## Should be training data indices only\n",
    "training_indices = utils.get_indices_entire_sequence(\n",
    "    data=training_data, \n",
    "    window_size=window_size, \n",
    "    step_size=step_size)"
   ]
  },
  {
   "cell_type": "code",
   "execution_count": 9,
   "id": "1d1dd6d4-cac0-40b7-a30e-e366c95c4e1a",
   "metadata": {},
   "outputs": [
    {
     "name": "stdout",
     "output_type": "stream",
     "text": [
      "From get_src_trg: data size = torch.Size([453, 3])\n"
     ]
    }
   ],
   "source": [
    "# * Making instance of custom dataset class\n",
    "training_data = ds.TransformerDataset(\n",
    "    data=torch.tensor(training_data[input_variables].values).float(),\n",
    "    indices=training_indices,\n",
    "    enc_seq_len=enc_seq_len,\n",
    "    dec_seq_len=dec_seq_len,\n",
    "    target_seq_len=output_sequence_length\n",
    "    )"
   ]
  },
  {
   "cell_type": "code",
   "execution_count": 10,
   "id": "84801372-81f9-4da2-8991-9c3a8ecca10b",
   "metadata": {},
   "outputs": [],
   "source": [
    "# * Making dataloader\n",
    "training_data = DataLoader(training_data, batch_size)\n",
    "\n",
    "i, batch = next(enumerate(training_data))\n",
    "\n",
    "src, trg, trg_y = batch"
   ]
  },
  {
   "cell_type": "code",
   "execution_count": 11,
   "id": "e56b1225-23a7-417f-bc78-28ec91bea4f9",
   "metadata": {},
   "outputs": [],
   "source": [
    "# * Permute from shape [batch size, seq len, num features] to [seq len, batch size, num features]\n",
    "if batch_first == False:\n",
    "\n",
    "    shape_before = src.shape\n",
    "    src = src.permute(1, 0, 2)\n",
    "    print(\"src shape changed from {} to {}\".format(shape_before, src.shape))\n",
    "\n",
    "    shape_before = trg.shape\n",
    "    trg = trg.permute(1, 0, 2)\n",
    "    print(\"src shape changed from {} to {}\".format(shape_before, src.shape))"
   ]
  },
  {
   "cell_type": "code",
   "execution_count": 12,
   "id": "150bea3c-8e7c-407d-9c50-571d3df405d8",
   "metadata": {},
   "outputs": [
    {
     "name": "stdout",
     "output_type": "stream",
     "text": [
      "input_size 3\n",
      "enc_seq_len 153\n",
      "batch_first True\n"
     ]
    }
   ],
   "source": [
    "print('input_size', input_size)\n",
    "print('enc_seq_len', enc_seq_len)\n",
    "print('batch_first', batch_first)"
   ]
  },
  {
   "cell_type": "code",
   "execution_count": null,
   "id": "cb874859-b192-4a85-aa93-5106b66db2e3",
   "metadata": {},
   "outputs": [],
   "source": [
    "# * Create Model\n",
    "model = tst.TimeSeriesTransformer(\n",
    "    input_size=input_size,\n",
    "    dec_seq_len=enc_seq_len,\n",
    "    batch_first=batch_first,\n",
    "    num_predicted_features=1\n",
    "    )"
   ]
  },
  {
   "cell_type": "code",
   "execution_count": null,
   "id": "c9f281ec-6949-4302-a200-cc07064329d5",
   "metadata": {},
   "outputs": [],
   "source": [
    "# * Make src mask for decoder with size:\n",
    "## [batch_size*n_heads, output_sequence_length, enc_seq_len]\n",
    "src_mask = utils.generate_square_subsequent_mask(\n",
    "    dim1=output_sequence_length,\n",
    "    dim2=enc_seq_len\n",
    "    )"
   ]
  },
  {
   "cell_type": "code",
   "execution_count": null,
   "id": "3dc2aec2-f4f6-4e7d-8124-b1c9c2cce004",
   "metadata": {},
   "outputs": [],
   "source": [
    "# * Make tgt mask for decoder with size:\n",
    "## [batch_size*n_heads, output_sequence_length, output_sequence_length]\n",
    "tgt_mask = utils.generate_square_subsequent_mask( \n",
    "    dim1=output_sequence_length,\n",
    "    dim2=output_sequence_length\n",
    "    )"
   ]
  },
  {
   "cell_type": "code",
   "execution_count": null,
   "id": "63ce6536-f52f-4586-95f8-550eda7bfdfc",
   "metadata": {},
   "outputs": [],
   "source": [
    "# * Generate output\n",
    "output = model(\n",
    "    src=src,\n",
    "    tgt=trg,\n",
    "    src_mask=src_mask,\n",
    "    tgt_mask=tgt_mask\n",
    "    )"
   ]
  },
  {
   "cell_type": "code",
   "execution_count": null,
   "id": "0609c4b1-989f-4390-8728-35077af57349",
   "metadata": {},
   "outputs": [],
   "source": [
    "print(output)"
   ]
  }
 ],
 "metadata": {
  "kernelspec": {
   "display_name": "Python 3 (ipykernel)",
   "language": "python",
   "name": "python3"
  },
  "language_info": {
   "codemirror_mode": {
    "name": "ipython",
    "version": 3
   },
   "file_extension": ".py",
   "mimetype": "text/x-python",
   "name": "python",
   "nbconvert_exporter": "python",
   "pygments_lexer": "ipython3",
   "version": "3.11.4"
  }
 },
 "nbformat": 4,
 "nbformat_minor": 5
}
