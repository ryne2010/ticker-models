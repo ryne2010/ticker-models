{
 "cells": [
  {
   "cell_type": "code",
   "execution_count": 1,
   "id": "46e0ada2-8402-497b-9f80-1176796a301e",
   "metadata": {},
   "outputs": [],
   "source": [
    "import dataset as ds\n",
    "import utils\n",
    "from torch.utils.data import DataLoader\n",
    "import torch\n",
    "import datetime\n",
    "import transformer_timeseries as tst\n",
    "import numpy as np"
   ]
  },
  {
   "cell_type": "code",
   "execution_count": 2,
   "id": "3d7afc35-9f12-4d05-bb41-5e0cd549ddca",
   "metadata": {},
   "outputs": [],
   "source": [
    "# Hyperparams\n",
    "test_size = 0.1\n",
    "batch_size = 128\n",
    "target_col_name = \"FCR_N_PriceEUR\"\n",
    "timestamp_col = \"timestamp\"\n",
    "# Only use data from this date and onwards\n",
    "cutoff_date = datetime.datetime(2017, 1, 1)"
   ]
  },
  {
   "cell_type": "code",
   "execution_count": 16,
   "id": "84ba9098-c11e-4825-956c-44031c535f6e",
   "metadata": {},
   "outputs": [],
   "source": [
    "## Params\n",
    "dim_val = 2048\n",
    "n_heads = 8\n",
    "n_decoder_layers = 4\n",
    "n_encoder_layers = 4\n",
    "dec_seq_len = 92 # length of input given to decoder\n",
    "enc_seq_len = 153 # length of input given to encoder\n",
    "output_sequence_length = 48 # target sequence length. If hourly data and length = 48, you predict 2 days ahead\n",
    "window_size = enc_seq_len + output_sequence_length # used to slice data into sub-sequences\n",
    "step_size = 1 # Step size, i.e. how many time steps does the moving window move at each step\n",
    "in_features_encoder_linear_layer = 2048\n",
    "in_features_decoder_linear_layer = 2048\n",
    "max_seq_len = enc_seq_len\n",
    "batch_first = False"
   ]
  },
  {
   "cell_type": "code",
   "execution_count": 17,
   "id": "167a325a-4377-4c35-8111-08d036d122ac",
   "metadata": {},
   "outputs": [],
   "source": [
    "# Define input variables\n",
    "exogenous_vars = [] # should contain strings. Each string must correspond to a column name\n",
    "input_variables = [target_col_name] + exogenous_vars\n",
    "target_idx = 0 # index position of target in batched trg_y\n",
    "\n",
    "input_size = len(input_variables)"
   ]
  },
  {
   "cell_type": "code",
   "execution_count": 18,
   "id": "89c4d920-6552-4d01-a125-27df6173a715",
   "metadata": {},
   "outputs": [
    {
     "name": "stdout",
     "output_type": "stream",
     "text": [
      "Reading file in data/dfs_merged_upload.csv\n"
     ]
    }
   ],
   "source": [
    "# Read data\n",
    "data = utils.read_data('dfs_merged_upload')"
   ]
  },
  {
   "cell_type": "code",
   "execution_count": 19,
   "id": "34b4c341-f06d-4e38-a78e-d6b68820c978",
   "metadata": {},
   "outputs": [],
   "source": [
    "# Remove test data from dataset\n",
    "training_data = data[:-(round(len(data)*test_size))]"
   ]
  },
  {
   "cell_type": "code",
   "execution_count": 20,
   "id": "a681ae43-5dcf-4536-9e2b-d59ab2435633",
   "metadata": {},
   "outputs": [],
   "source": [
    "# Make list of (start_idx, end_idx) pairs that are used to slice the time series sequence into chunkc.\n",
    "# Should be training data indices only\n",
    "training_indices = utils.get_indices_entire_sequence(\n",
    "    data=training_data,\n",
    "    window_size=window_size,\n",
    "    step_size=step_size)"
   ]
  },
  {
   "cell_type": "code",
   "execution_count": 21,
   "id": "48bd0fb8-4125-4d20-af3e-24f66ca51051",
   "metadata": {},
   "outputs": [
    {
     "name": "stdout",
     "output_type": "stream",
     "text": [
      "From get_src_trg: data size = torch.Size([234, 1])\n"
     ]
    }
   ],
   "source": [
    "# Making instance of custom dataset class\n",
    "training_data = ds.TransformerDataset(\n",
    "    data=torch.tensor(training_data[input_variables].values).float(),\n",
    "    indices=training_indices,\n",
    "    enc_seq_len=enc_seq_len,\n",
    "    dec_seq_len=dec_seq_len,\n",
    "    target_seq_len=output_sequence_length\n",
    "    )"
   ]
  },
  {
   "cell_type": "code",
   "execution_count": 22,
   "id": "56f76e79-2649-4cec-97bf-91ff53bf13af",
   "metadata": {},
   "outputs": [],
   "source": [
    "# Making dataloader\n",
    "training_data = DataLoader(training_data, batch_size)\n",
    "\n",
    "i, batch = next(enumerate(training_data))\n",
    "\n",
    "src, trg, trg_y = batch"
   ]
  },
  {
   "cell_type": "code",
   "execution_count": 23,
   "id": "7ff35448-2a1d-4662-a703-9f01fd39c5e4",
   "metadata": {},
   "outputs": [
    {
     "name": "stdout",
     "output_type": "stream",
     "text": [
      "src shape changed from torch.Size([33, 153, 1]) to torch.Size([153, 33, 1])\n",
      "src shape changed from torch.Size([33, 48, 1]) to torch.Size([153, 33, 1])\n"
     ]
    }
   ],
   "source": [
    "# Permute from shape [batch size, seq len, num features] to [seq len, batch size, num features]\n",
    "if batch_first == False:\n",
    "\n",
    "    shape_before = src.shape\n",
    "    src = src.permute(1, 0, 2)\n",
    "    print(\"src shape changed from {} to {}\".format(shape_before, src.shape))\n",
    "\n",
    "    shape_before = trg.shape\n",
    "    trg = trg.permute(1, 0, 2)\n",
    "    print(\"src shape changed from {} to {}\".format(shape_before, src.shape))"
   ]
  },
  {
   "cell_type": "code",
   "execution_count": 24,
   "id": "fd0adfc9-1882-4c05-99ba-b4191a00f224",
   "metadata": {},
   "outputs": [],
   "source": [
    "model = tst.TimeSeriesTransformer(\n",
    "    input_size=len(input_variables),\n",
    "    dec_seq_len=enc_seq_len,\n",
    "    batch_first=batch_first,\n",
    "    dim_val=dim_val,\n",
    "    num_predicted_features=1\n",
    "    )"
   ]
  },
  {
   "cell_type": "code",
   "execution_count": 25,
   "id": "c3663441-37b7-42e3-aaa6-f3c4b245448e",
   "metadata": {},
   "outputs": [],
   "source": [
    "# Make src mask for decoder with size:\n",
    "# [batch_size*n_heads, output_sequence_length, enc_seq_len]\n",
    "src_mask = utils.generate_square_subsequent_mask(\n",
    "    dim1=output_sequence_length,\n",
    "    dim2=enc_seq_len\n",
    "    )"
   ]
  },
  {
   "cell_type": "code",
   "execution_count": 26,
   "id": "c56492f5-b00f-4c2e-a9b5-00c38e01153f",
   "metadata": {},
   "outputs": [],
   "source": [
    "# Make tgt mask for decoder with size:\n",
    "# [batch_size*n_heads, output_sequence_length, output_sequence_length]\n",
    "tgt_mask = utils.generate_square_subsequent_mask(\n",
    "    dim1=output_sequence_length,\n",
    "    dim2=output_sequence_length\n",
    "    )"
   ]
  },
  {
   "cell_type": "code",
   "execution_count": 27,
   "id": "a6a720cc-58d6-49c3-a4b3-9a13464e9f63",
   "metadata": {},
   "outputs": [],
   "source": [
    "output = model(\n",
    "    src=src,\n",
    "    tgt=trg,\n",
    "    src_mask=src_mask,\n",
    "    tgt_mask=tgt_mask\n",
    "    )"
   ]
  },
  {
   "cell_type": "code",
   "execution_count": 28,
   "id": "548a9adb-952a-4391-8644-d457de24c50d",
   "metadata": {},
   "outputs": [
    {
     "data": {
      "text/plain": [
       "tensor([[[-0.0234],\n",
       "         [ 0.1587],\n",
       "         [-0.2655],\n",
       "         ...,\n",
       "         [-0.3121],\n",
       "         [-0.5425],\n",
       "         [ 0.2247]],\n",
       "\n",
       "        [[-0.3787],\n",
       "         [-0.4521],\n",
       "         [-0.3991],\n",
       "         ...,\n",
       "         [-0.2042],\n",
       "         [-0.1318],\n",
       "         [-0.1057]],\n",
       "\n",
       "        [[-0.2745],\n",
       "         [-0.1126],\n",
       "         [-0.4548],\n",
       "         ...,\n",
       "         [-0.4272],\n",
       "         [ 0.1457],\n",
       "         [ 0.0132]],\n",
       "\n",
       "        ...,\n",
       "\n",
       "        [[-0.0416],\n",
       "         [-0.2546],\n",
       "         [ 0.2775],\n",
       "         ...,\n",
       "         [-0.3728],\n",
       "         [-0.0046],\n",
       "         [ 0.0793]],\n",
       "\n",
       "        [[-0.0755],\n",
       "         [-0.2210],\n",
       "         [-0.0999],\n",
       "         ...,\n",
       "         [-0.3648],\n",
       "         [-0.0709],\n",
       "         [-0.0254]],\n",
       "\n",
       "        [[ 0.0583],\n",
       "         [ 0.1233],\n",
       "         [ 0.0472],\n",
       "         ...,\n",
       "         [-0.2169],\n",
       "         [-0.3407],\n",
       "         [-0.1757]]], grad_fn=<ViewBackward0>)"
      ]
     },
     "execution_count": 28,
     "metadata": {},
     "output_type": "execute_result"
    }
   ],
   "source": [
    "output"
   ]
  },
  {
   "cell_type": "code",
   "execution_count": null,
   "id": "b1bb2c85-5486-4631-ad56-007b0db3542b",
   "metadata": {},
   "outputs": [],
   "source": []
  }
 ],
 "metadata": {
  "kernelspec": {
   "display_name": "Python 3 (ipykernel)",
   "language": "python",
   "name": "python3"
  },
  "language_info": {
   "codemirror_mode": {
    "name": "ipython",
    "version": 3
   },
   "file_extension": ".py",
   "mimetype": "text/x-python",
   "name": "python",
   "nbconvert_exporter": "python",
   "pygments_lexer": "ipython3",
   "version": "3.11.4"
  }
 },
 "nbformat": 4,
 "nbformat_minor": 5
}
