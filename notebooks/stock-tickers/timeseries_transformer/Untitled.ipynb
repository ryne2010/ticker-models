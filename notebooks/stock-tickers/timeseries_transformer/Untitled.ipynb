{
 "cells": [
  {
   "cell_type": "code",
   "execution_count": null,
   "id": "cb2fa5fd-a78e-43d9-a69e-94be4289a983",
   "metadata": {},
   "outputs": [
    {
     "name": "stdout",
     "output_type": "stream",
     "text": [
      "Reading file in data/dfs_merged_upload.csv\n",
      "From get_src_trg: data size = torch.Size([234, 1])\n",
      "src shape changed from torch.Size([128, 38, 1]) to torch.Size([38, 128, 1])\n",
      "src shape changed from torch.Size([128, 48, 1]) to torch.Size([38, 128, 1])\n"
     ]
    }
   ],
   "source": [
    "%run sandbox-Copy1.py"
   ]
  },
  {
   "cell_type": "code",
   "execution_count": null,
   "id": "4eb2bba6-fc36-4482-b296-d72ca80d8302",
   "metadata": {},
   "outputs": [],
   "source": []
  }
 ],
 "metadata": {
  "kernelspec": {
   "display_name": "torchEnv",
   "language": "python",
   "name": "torchenv"
  },
  "language_info": {
   "codemirror_mode": {
    "name": "ipython",
    "version": 3
   },
   "file_extension": ".py",
   "mimetype": "text/x-python",
   "name": "python",
   "nbconvert_exporter": "python",
   "pygments_lexer": "ipython3",
   "version": "3.10.4"
  }
 },
 "nbformat": 4,
 "nbformat_minor": 5
}
