{
 "cells": [
  {
   "cell_type": "markdown",
   "id": "8190d02e-f5a6-4ad8-b998-34a80650067b",
   "metadata": {},
   "source": [
    "# Train the model"
   ]
  },
  {
   "cell_type": "code",
   "execution_count": 1,
   "id": "bd8aa92e-6453-4809-b7bf-47d52297f528",
   "metadata": {},
   "outputs": [],
   "source": [
    "# Training Parameters\n",
    "epochs = 10\n",
    "learning_rate = 0.001"
   ]
  },
  {
   "cell_type": "code",
   "execution_count": 2,
   "id": "31f440da-5510-4fb0-a6df-70e2af48adbf",
   "metadata": {},
   "outputs": [],
   "source": [
    "# Define the scheduled sampling function (Sigmoid decay curve)\n",
    "def sigmoid_decay(x, x_mid, x_max, start_scheduled_sampling_epoch):\n",
    "    # Sigmoid function with scaling and shifting\n",
    "    return 1 / (1 + np.exp(-(x - start_scheduled_sampling_epoch - x_mid) / (k * (x_max - x_mid))))\n",
    "\n",
    "# Parameters\n",
    "x_mid = round(epochs * 0.55) # shift=0.5 converges f(midpoint) = 0.5; shifts scheduled_sampling_ratio curve further/closer from end of dataset\n",
    "start_scheduled_sampling_epoch = round(epochs * 0.2) # Adjust this value to start scheduled sampling after a certain epoch\n",
    "k = 0.3"
   ]
  },
  {
   "cell_type": "code",
   "execution_count": 3,
   "id": "e1711328-576b-4c7c-afa1-4ada48284731",
   "metadata": {},
   "outputs": [
    {
     "name": "stdout",
     "output_type": "stream",
     "text": [
      "Reading file in data/dfs_merged_upload.csv\n",
      "From get_src_trg: data size = torch.Size([234, 1])\n",
      "From get_src_trg: data size = torch.Size([26, 1])\n"
     ]
    },
    {
     "name": "stderr",
     "output_type": "stream",
     "text": [
      "/Users/ryneschroder/miniconda3/lib/python3.11/site-packages/torch/nn/modules/loss.py:536: UserWarning: Using a target size (torch.Size([33, 48])) that is different to the input size (torch.Size([48, 33, 1])). This will likely lead to incorrect results due to broadcasting. Please ensure they have the same size.\n",
      "  return F.mse_loss(input, target, reduction=self.reduction)\n"
     ]
    },
    {
     "name": "stdout",
     "output_type": "stream",
     "text": [
      "Epoch: 0, Batch: 0, Loss: 877.6829833984375 Scheduled Sampling Ratio: 0.0\n",
      "Epoch: 1, Batch: 0, Loss: 479.2082824707031 Scheduled Sampling Ratio: 0.0\n",
      "Epoch: 2, Batch: 0, Loss: 420.7877197265625 Scheduled Sampling Ratio: 0.0066928509242848554\n",
      "Epoch: 3, Batch: 0, Loss: 409.0513000488281 Scheduled Sampling Ratio: 0.015267153880374444\n",
      "Epoch: 4, Batch: 0, Loss: 401.0177917480469 Scheduled Sampling Ratio: 0.03444519566621117\n",
      "Epoch: 5, Batch: 0, Loss: 391.8951110839844 Scheduled Sampling Ratio: 0.07585818002124355\n",
      "Epoch: 6, Batch: 0, Loss: 382.0094909667969 Scheduled Sampling Ratio: 0.15886910488091516\n",
      "Epoch: 7, Batch: 0, Loss: 372.306884765625 Scheduled Sampling Ratio: 0.3029407160345927\n",
      "Epoch: 8, Batch: 0, Loss: 362.7332458496094 Scheduled Sampling Ratio: 0.5\n",
      "Epoch: 9, Batch: 0, Loss: 353.3635559082031 Scheduled Sampling Ratio: 0.6970592839654074\n"
     ]
    }
   ],
   "source": [
    "\"\"\"\n",
    "Demonstrating how to use the transformer model with time-series data.\n",
    "This code includes a full training loop with scheduled sampling and an evaluation step.\n",
    "\"\"\"\n",
    "\n",
    "import dataset as ds\n",
    "import utils\n",
    "from torch.utils.data import DataLoader\n",
    "import torch\n",
    "import datetime\n",
    "import transformer_timeseries as tst\n",
    "import numpy as np\n",
    "\n",
    "# Hyperparameters\n",
    "test_size = 0.1\n",
    "batch_size = 128\n",
    "target_col_name = \"FCR_N_PriceEUR\"\n",
    "timestamp_col = \"timestamp\"\n",
    "cutoff_date = datetime.datetime(2017, 1, 1)\n",
    "\n",
    "# Model Parameters\n",
    "dim_val = 512\n",
    "n_heads = 8\n",
    "n_decoder_layers = 4\n",
    "n_encoder_layers = 4\n",
    "dec_seq_len = 92\n",
    "enc_seq_len = 153\n",
    "output_sequence_length = 48\n",
    "window_size = enc_seq_len + output_sequence_length\n",
    "step_size = 1\n",
    "in_features_encoder_linear_layer = 2048\n",
    "in_features_decoder_linear_layer = 2048\n",
    "max_seq_len = enc_seq_len\n",
    "batch_first = False\n",
    "num_predicted_features = 1\n",
    "\n",
    "# Define input variables\n",
    "exogenous_vars = []\n",
    "input_variables = [target_col_name] + exogenous_vars\n",
    "target_idx = 0\n",
    "input_size = len(input_variables)\n",
    "\n",
    "# Read data\n",
    "data = utils.read_data('dfs_merged_upload')\n",
    "\n",
    "# Split data into training and test sets\n",
    "split_idx = round(len(data) * (1 - test_size))\n",
    "training_data_raw = data[:split_idx]\n",
    "test_data_raw = data[split_idx:]\n",
    "\n",
    "# Get training indices\n",
    "training_indices = utils.get_indices_entire_sequence(\n",
    "    data=training_data_raw,\n",
    "    window_size=window_size,\n",
    "    step_size=step_size)\n",
    "\n",
    "# Get test indices\n",
    "test_indices = utils.get_indices_entire_sequence(\n",
    "    data=test_data_raw,\n",
    "    window_size=window_size,\n",
    "    step_size=step_size)\n",
    "\n",
    "# Create custom dataset class for training data\n",
    "training_data = ds.TransformerDataset(\n",
    "    data=torch.tensor(training_data_raw[input_variables].values).float(),\n",
    "    indices=training_indices,\n",
    "    enc_seq_len=enc_seq_len,\n",
    "    dec_seq_len=dec_seq_len,\n",
    "    target_seq_len=output_sequence_length)\n",
    "\n",
    "# Create custom dataset class for test data\n",
    "test_data = ds.TransformerDataset(\n",
    "    data=torch.tensor(test_data_raw[input_variables].values).float(),\n",
    "    indices=test_indices,\n",
    "    enc_seq_len=enc_seq_len,\n",
    "    dec_seq_len=dec_seq_len,\n",
    "    target_seq_len=output_sequence_length)\n",
    "\n",
    "# Create DataLoader for training data\n",
    "training_dataloader = DataLoader(training_data, batch_size)\n",
    "\n",
    "# Create DataLoader for test data\n",
    "test_dataloader = DataLoader(test_data, batch_size)\n",
    "\n",
    "# Initialize model\n",
    "model = tst.TimeSeriesTransformer(\n",
    "    input_size=len(input_variables),\n",
    "    dec_seq_len=enc_seq_len,\n",
    "    batch_first=batch_first,\n",
    "    num_predicted_features=num_predicted_features,\n",
    "    dim_val=dim_val\n",
    ")\n",
    "\n",
    "# Define loss function and optimizer\n",
    "loss_function = torch.nn.MSELoss()\n",
    "optimizer = torch.optim.Adam(model.parameters(), lr=learning_rate)\n",
    "loss_history = []\n",
    "\n",
    "# Training loop\n",
    "for epoch in range(epochs):\n",
    "    if epoch >= start_scheduled_sampling_epoch:\n",
    "        scheduled_sampling_ratio = sigmoid_decay(epoch, x_mid, epochs, start_scheduled_sampling_epoch)\n",
    "    else:\n",
    "        scheduled_sampling_ratio = 0.0  # Use teacher-forcing before start_scheduled_sampling_epoch\n",
    "   \n",
    "    for i, batch in enumerate(training_dataloader):\n",
    "        src, trg, trg_y = batch\n",
    "\n",
    "        # Scheduled sampling\n",
    "        if scheduled_sampling_ratio > np.random.rand():\n",
    "            trg = trg_y.unsqueeze(-num_predicted_features)  # Add a singleton dimension for the features\n",
    "\n",
    "        # Permute shape if needed\n",
    "        if not batch_first:\n",
    "            src = src.permute(1, 0, 2)\n",
    "            trg = trg.permute(1, 0, 2)\n",
    "\n",
    "        # Generate masks\n",
    "        src_mask = utils.generate_square_subsequent_mask(dim1=output_sequence_length, dim2=enc_seq_len)\n",
    "        tgt_mask = utils.generate_square_subsequent_mask(dim1=output_sequence_length, dim2=output_sequence_length)\n",
    "\n",
    "        # Forward pass\n",
    "        output = model(src=src, tgt=trg, src_mask=src_mask, tgt_mask=tgt_mask)\n",
    "\n",
    "        # Compute loss\n",
    "        loss = loss_function(output, trg_y)\n",
    "\n",
    "        # Backward pass\n",
    "        optimizer.zero_grad()\n",
    "        loss.backward()\n",
    "        optimizer.step()\n",
    "        loss_history.append(loss.item())\n",
    "\n",
    "        print(f\"Epoch: {epoch}, Batch: {i}, Loss: {loss.item()} Scheduled Sampling Ratio: {scheduled_sampling_ratio}\")"
   ]
  },
  {
   "cell_type": "code",
   "execution_count": 4,
   "id": "1c0a12fe-28a6-4fa3-aba3-0370beae4086",
   "metadata": {},
   "outputs": [
    {
     "data": {
      "image/png": "[encoded data removed]",
      "text/plain": [
       "<Figure size 1000x500 with 1 Axes>"
      ]
     },
     "metadata": {},
     "output_type": "display_data"
    }
   ],
   "source": [
    "import matplotlib.pyplot as plt\n",
    "\n",
    "# view training\n",
    "loss_history = np.array(loss_history).reshape(-1)\n",
    "x = range(loss_history.shape[0])\n",
    "plt.figure(figsize=(10, 5))\n",
    "plt.plot(x, loss_history, label=\"train\")\n",
    "plt.title(\"Loss\", fontsize=15)\n",
    "plt.legend(loc=\"upper right\")\n",
    "plt.xlabel(\"iteration\")\n",
    "plt.ylabel(\"nll\")\n",
    "plt.show()"
   ]
  },
  {
   "cell_type": "markdown",
   "id": "0846f985-879c-4b62-9970-2d2ce39936a0",
   "metadata": {
    "tags": []
   },
   "source": [
    "# Evaluate the model"
   ]
  },
  {
   "cell_type": "code",
   "execution_count": 5,
   "id": "4a583996-0674-418f-96b1-b2abb54302de",
   "metadata": {},
   "outputs": [],
   "source": [
    "model.eval()\n",
    "\n",
    "forecasts_ = []\n",
    "\n",
    "for batch in test_dataloader:\n",
    "    outputs = model.generate(\n",
    "        static_categorical_features=batch[\"static_categorical_features\"].to(device)\n",
    "        if config.num_static_categorical_features > 0\n",
    "        else None,\n",
    "        static_real_features=batch[\"static_real_features\"].to(device)\n",
    "        if config.num_static_real_features > 0\n",
    "        else None,\n",
    "        past_time_features=batch[\"past_time_features\"].to(device),\n",
    "        past_values=batch[\"past_values\"].to(device),\n",
    "        future_time_features=batch[\"future_time_features\"].to(device),\n",
    "        past_observed_mask=batch[\"past_observed_mask\"].to(device),\n",
    "    )\n",
    "    forecasts_.append(outputs.sequences.cpu().numpy())"
   ]
  },
  {
   "cell_type": "code",
   "execution_count": 6,
   "id": "ac9e4b0e-e411-49d6-9a7d-35b9250b40fc",
   "metadata": {},
   "outputs": [
    {
     "data": {
      "text/plain": [
       "<torch.utils.data.dataloader.DataLoader at 0x12ff54510>"
      ]
     },
     "execution_count": 8,
     "metadata": {},
     "output_type": "execute_result"
    }
   ],
   "source": [
    "forecasts_[0].shape"
   ]
  },
  {
   "cell_type": "code",
   "execution_count": null,
   "id": "5fda6807-9beb-4cc3-a3d6-564688aba12b",
   "metadata": {},
   "outputs": [],
   "source": [
    "forecasts = np.vstack(forecasts_)\n",
    "print(forecasts.shape)"
   ]
  },
  {
   "cell_type": "code",
   "execution_count": null,
   "id": "79061d95-b923-4de9-a1b2-8a129345cbb4",
   "metadata": {},
   "outputs": [],
   "source": [
    "from evaluate import load\n",
    "from gluonts.time_feature import get_seasonality\n",
    "\n",
    "mase_metric = load(\"evaluate-metric/mase\")\n",
    "smape_metric = load(\"evaluate-metric/smape\")\n",
    "\n",
    "forecast_median = np.median(forecasts, 1).squeeze(0).T\n",
    "\n",
    "mase_metrics = []\n",
    "smape_metrics = []\n",
    "\n",
    "for item_id, ts in enumerate(test_data):\n",
    "    training_data = ts[\"target\"][:-prediction_length]\n",
    "    ground_truth = ts[\"target\"][-prediction_length:]\n",
    "    mase = mase_metric.compute(\n",
    "        predictions=forecast_median[item_id],\n",
    "        references=np.array(ground_truth),\n",
    "        training=np.array(training_data),\n",
    "        periodicity=get_seasonality(freq),\n",
    "    )\n",
    "    mase_metrics.append(mase[\"mase\"])\n",
    "\n",
    "    smape = smape_metric.compute(\n",
    "        predictions=forecast_median[item_id],\n",
    "        references=np.array(ground_truth),\n",
    "    )\n",
    "    smape_metrics.append(smape[\"smape\"])\n",
    "    \n",
    "print(f\"MASE: {np.mean(mase_metrics)}\")\n",
    "print(f\"sMAPE: {np.mean(smape_metrics)}\")"
   ]
  },
  {
   "cell_type": "code",
   "execution_count": null,
   "id": "a6291d69-f6b9-4247-8ee5-240536a6f0e3",
   "metadata": {},
   "outputs": [],
   "source": []
  }
 ],
 "metadata": {
  "kernelspec": {
   "display_name": "Python 3 (ipykernel)",
   "language": "python",
   "name": "python3"
  },
  "language_info": {
   "codemirror_mode": {
    "name": "ipython",
    "version": 3
   },
   "file_extension": ".py",
   "mimetype": "text/x-python",
   "name": "python",
   "nbconvert_exporter": "python",
   "pygments_lexer": "ipython3",
   "version": "3.11.4"
  }
 },
 "nbformat": 4,
 "nbformat_minor": 5
}
